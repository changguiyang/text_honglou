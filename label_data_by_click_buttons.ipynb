{
 "cells": [
  {
   "cell_type": "markdown",
   "metadata": {
    "pycharm": {
     "name": "#%% md\n"
    }
   },
   "source": [
    "# Label speaker by click buttons\n",
    "\n",
    "By LongGang Pang\n",
    "\n",
    "Try to use the widgets in jupyter notebook to design one software to label the data using clicking on \n",
    "buttons."
   ]
  },
  {
   "cell_type": "code",
   "execution_count": 1,
   "metadata": {
    "pycharm": {
     "name": "#%%\n"
    }
   },
   "outputs": [],
   "source": [
    "from history import talks"
   ]
  },
  {
   "cell_type": "code",
   "execution_count": 2,
   "metadata": {
    "pycharm": {
     "name": "#%%\n"
    }
   },
   "outputs": [],
   "source": [
    "from ipywidgets import *\n",
    "from IPython.display import display\n",
    "import ipywidgets as widgets\n",
    "from IPython.display import clear_output\n",
    "import json\n",
    "import ast\n",
    "# displaying the labelling widget\n",
    "# text = widgets.Text(description=\"Label the speaker by clicking buttons\", width=200)\n",
    "# display(text)"
   ]
  },
  {
   "cell_type": "code",
   "execution_count": 3,
   "metadata": {
    "pycharm": {
     "name": "#%%\n"
    }
   },
   "outputs": [],
   "source": [
    "def check_existence(sentence, idx, saved_file=\"label_history.txt\"):\n",
    "\n",
    "    speakers = []\n",
    "    contexts = []\n",
    "    combined_res = []\n",
    "    # combine N speakers with M contexts to get N*M examples\n",
    "    with open(saved_file, \"r\") as f:\n",
    "        lines = f.readlines()\n",
    "        for line in lines:\n",
    "            # res = json.loads(line)\n",
    "            res = ast.literal_eval(line)\n",
    "            speakers.append(res['speaker'])\n",
    "            ctx = res['context']\n",
    "            ctx_left = ctx[:res[\"istart\"]]\n",
    "            ctx_right = ctx[res[\"iend\"]:]\n",
    "            contexts.append([ctx_left, ctx_right, res[\"istart\"]])\n",
    "\n",
    "    for speaker in speakers:\n",
    "        for ctx in contexts:\n",
    "            try:\n",
    "                new_ctx = ctx[0] + speaker + ctx[1]\n",
    "                istart = ctx[2]\n",
    "                new_iend = istart + len(speaker)\n",
    "                res = {'uid':0, \n",
    "                   'context':new_ctx,\n",
    "                   'speaker':speaker,\n",
    "                   'istart':istart, \n",
    "                   'iend':new_iend}\n",
    "                combined_res.append(res)\n",
    "#                 print(res)\n",
    "\n",
    "                if sentence == res['context']:\n",
    "\n",
    "                    res['uid'] = idx\n",
    "                    return True, res\n",
    "            except:\n",
    "                continue\n",
    "\n",
    "#     print(combined_res)\n",
    "    return False, None\n",
    "\n",
    "#check_existence(\"fdsa\", 0)"
   ]
  },
  {
   "cell_type": "code",
   "execution_count": 4,
   "metadata": {
    "pycharm": {
     "name": "#%%\n"
    }
   },
   "outputs": [],
   "source": [
    "class ToButtons(object):\n",
    "    def __init__(self, input_str):\n",
    "        self.input_str = input_str\n",
    "        self.res = None\n",
    "        self.buttons = []\n",
    "        self.pos_labels = []\n",
    "        item_layout = Layout(height='40px', min_width='40px', max_width='40px')\n",
    "        items = [Button(layout=item_layout, \n",
    "                        description=input_str[i],\n",
    "                        value = i,\n",
    "                        button_style='info')\n",
    "                 for i in range(len(input_str))]\n",
    "        \n",
    "        box_layout = Layout(\n",
    "                    border='3px solid black',\n",
    "                    width='800px',\n",
    "                    height='',\n",
    "                    flex_flow='row wrap',\n",
    "                    display='flex')\n",
    "        carousel = Box(children=items, layout=box_layout)\n",
    "        display(carousel)\n",
    "#         print(items)\n",
    "        for value,item in enumerate(items[:-2]):\n",
    "            item.value = value\n",
    "            item.on_click(self.on_button_clicked)\n",
    "        \n",
    "            \n",
    "    # function to deal with the checkbox update button       \n",
    "    def on_button_clicked(self, b):\n",
    "        print(\"@on_button_clicked\")\n",
    "        self.pos_labels.append(b.value)\n",
    "        print(self.pos_labels)\n",
    "        if len(self.pos_labels) > 2:\n",
    "            #raise ValueError(\"only click the start and the end word\")\n",
    "            print(\"Warning: click more than 2 times, will use the last click \\\n",
    "                  as the end of the label position\")\n",
    "            \n",
    "    def return_results(self):\n",
    "        print(\"@return_results\")\n",
    "        if len(self.pos_labels) == 0:\n",
    "            self.pos_labels.append(-1)\n",
    "        return self.input_str, self.pos_labels[0], self.pos_labels[-1]+1\n",
    "\n",
    "\n",
    "    \n",
    "class LabelSpeaker(object):\n",
    "    def __init__(self, talk_list, progress=0, save_to='label_history.txt'):\n",
    "        self.progress = progress\n",
    "        self.saving_path = save_to\n",
    "        self.talk_list = talk_list\n",
    "        self.sentence_buttons = ToButtons(talk_list[self.progress]['context'])\n",
    "        self.submit_layout = Layout(height='40px', min_width='40px')\n",
    "        self.submit = Button(layout=self.submit_layout, \n",
    "                        description=\"submit\",\n",
    "                       button_style='warning')\n",
    "        self.submit.on_click(self.on_button_submit)\n",
    "        display(self.submit)        \n",
    "\n",
    "        \n",
    "    def save_one_item(self, progress, sentence, istart, iend):\n",
    "        speaker = None\n",
    "        print(\"@save_one_item\")\n",
    "        if istart != -1: speaker = sentence[istart:iend]\n",
    "        res = {'uid':progress, 'context':sentence,\n",
    "               'speaker':speaker,\n",
    "               'istart':istart, 'iend':iend}\n",
    "        print(self.saving_path)\n",
    "        with open(self.saving_path, 'a') as f:\n",
    "            f.write(res.__repr__())\n",
    "            f.write('\\n')\n",
    "        \n",
    "    def on_button_submit(self, b):\n",
    "        print(\"@on_button_submit\")\n",
    "        sentence, istart, iend = self.sentence_buttons.return_results()\n",
    "        clear_output()\n",
    "        print(\"@on_button_submit\",sentence[istart:iend])\n",
    "        self.save_one_item(self.progress, sentence, istart, iend)\n",
    "        while True:\n",
    "            print(\"@on_button_submit\")\n",
    "            self.progress = self.progress + 1\n",
    "            print(\"@on_button_submit\",self.progress)\n",
    "            print(\"@on_button_submit\",len(self.talk_list))\n",
    "            if len(self.talk_list) == self.progress:\n",
    "                return\n",
    "            new_sentence = self.talk_list[self.progress]['context']\n",
    "            existed, res = check_existence(new_sentence, self.progress)\n",
    "\n",
    "            if existed:\n",
    "                self.save_one_item(self.progress, new_sentence,\n",
    "                                      res['istart'], res['iend'])\n",
    "            else:\n",
    "                print(\"！\"*10)\n",
    "                break\n",
    "        #### after check exist \n",
    "        self.sentence_buttons = ToButtons(new_sentence)\n",
    "        self.submit = Button(layout=self.submit_layout, \n",
    "                        description=\"submit\",\n",
    "                       button_style='warning')\n",
    "        self.submit.on_click(self.on_button_submit)\n",
    "        print(\"@after check exist\")\n",
    "        display(self.submit)"
   ]
  },
  {
   "cell_type": "code",
   "execution_count": 5,
   "metadata": {
    "pycharm": {
     "name": "#%%\n"
    }
   },
   "outputs": [
    {
     "name": "stdout",
     "output_type": "stream",
     "text": [
      "@on_button_submit 朱总司\n",
      "@save_one_item\n",
      "label_history.txt\n",
      "@on_button_submit\n",
      "@on_button_submit 6\n",
      "@on_button_submit 6\n"
     ]
    }
   ],
   "source": [
    "b1 = LabelSpeaker(talks, progress=0)"
   ]
  },
  {
   "cell_type": "code",
   "execution_count": 11,
   "metadata": {
    "pycharm": {
     "name": "#%%\n"
    }
   },
   "outputs": [],
   "source": [
    "def data_augmentation(saved_file=\"label_history.txt\"):\n",
    "    speakers = []\n",
    "    contexts = []\n",
    "    combined_res = [] \n",
    "    # combine N speakers with M contexts to get N*M examples\n",
    "    with open(saved_file, \"r\") as f:\n",
    "        lines = f.readlines()\n",
    "        for line in lines:\n",
    "            res = ast.literal_eval(line)\n",
    "            speakers.append(res['speaker'])\n",
    "            ctx = res['context']\n",
    "            ctx_left = ctx[:res[\"istart\"]]\n",
    "            ctx_right = ctx[res[\"iend\"]:]\n",
    "            contexts.append([ctx_left, ctx_right, res[\"istart\"]])\n",
    "            \n",
    "    uid = 0   \n",
    "    len_truncate = 128\n",
    "    for speaker in speakers:\n",
    "        for ctx in contexts:\n",
    "            try:\n",
    "                new_ctx = ctx[0] + speaker + ctx[1]\n",
    "                istart = ctx[2]\n",
    "                new_iend = istart + len(speaker)\n",
    "                new_speaker = speaker\n",
    "                # truncate the input if the speaker is contained in the last 128 words\n",
    "                if len(new_ctx) > len_truncate and (len(new_ctx)-istart)<len_truncate:\n",
    "                    truncated_ctx = new_ctx[-len_truncate:]\n",
    "                    istart = ctx[2] - (len(new_ctx) - len_truncate)\n",
    "                    new_iend = istart + len(speaker)\n",
    "                    new_speaker = truncated_ctx[istart:new_iend]\n",
    "                res = {'uid':uid, \n",
    "                   'context':new_ctx,\n",
    "                   'speaker':new_speaker,\n",
    "                   'istart':istart, \n",
    "                   'iend':new_iend}\n",
    "                combined_res.append(res)\n",
    "                uid = uid + 1\n",
    "            except:\n",
    "                continue\n",
    "    return combined_res"
   ]
  },
  {
   "cell_type": "code",
   "execution_count": 12,
   "metadata": {
    "pycharm": {
     "name": "#%%\n"
    }
   },
   "outputs": [],
   "source": [
    "augmented_data = data_augmentation()"
   ]
  },
  {
   "cell_type": "code",
   "execution_count": 14,
   "metadata": {
    "pycharm": {
     "name": "#%%\n"
    }
   },
   "outputs": [
    {
     "data": {
      "text/plain": [
       "0"
      ]
     },
     "execution_count": 14,
     "metadata": {},
     "output_type": "execute_result"
    }
   ],
   "source": [
    "len(augmented_data)"
   ]
  },
  {
   "cell_type": "code",
   "execution_count": 61,
   "metadata": {
    "pycharm": {
     "name": "#%%\n"
    }
   },
   "outputs": [
    {
     "ename": "IndexError",
     "evalue": "list index out of range",
     "output_type": "error",
     "traceback": [
      "\u001b[0;31m---------------------------------------------------------------------------\u001b[0m",
      "\u001b[0;31mIndexError\u001b[0m                                Traceback (most recent call last)",
      "Input \u001b[0;32mIn [61]\u001b[0m, in \u001b[0;36m<cell line: 1>\u001b[0;34m()\u001b[0m\n\u001b[0;32m----> 1\u001b[0m \u001b[38;5;28mprint\u001b[39m(\u001b[43maugmented_data\u001b[49m\u001b[43m[\u001b[49m\u001b[38;5;241;43m0\u001b[39;49m\u001b[43m]\u001b[49m)\n",
      "\u001b[0;31mIndexError\u001b[0m: list index out of range"
     ]
    }
   ],
   "source": [
    "print(augmented_data[0])"
   ]
  },
  {
   "cell_type": "code",
   "execution_count": 25,
   "metadata": {
    "pycharm": {
     "name": "#%%\n"
    }
   },
   "outputs": [
    {
     "ename": "ModuleNotFoundError",
     "evalue": "No module named 'tqdm'",
     "output_type": "error",
     "traceback": [
      "\u001b[0;31m---------------------------------------------------------------------------\u001b[0m",
      "\u001b[0;31mModuleNotFoundError\u001b[0m                       Traceback (most recent call last)",
      "Input \u001b[0;32mIn [25]\u001b[0m, in \u001b[0;36m<cell line: 1>\u001b[0;34m()\u001b[0m\n\u001b[0;32m----> 1\u001b[0m \u001b[38;5;28;01mfrom\u001b[39;00m \u001b[38;5;21;01mtqdm\u001b[39;00m \u001b[38;5;28;01mimport\u001b[39;00m tqdm_notebook\n\u001b[1;32m      2\u001b[0m \u001b[38;5;28;01mwith\u001b[39;00m \u001b[38;5;28mopen\u001b[39m(\u001b[38;5;124m\"\u001b[39m\u001b[38;5;124maugmented_history_speaker.py\u001b[39m\u001b[38;5;124m\"\u001b[39m, \u001b[38;5;124m\"\u001b[39m\u001b[38;5;124mw\u001b[39m\u001b[38;5;124m\"\u001b[39m) \u001b[38;5;28;01mas\u001b[39;00m fout:\n\u001b[1;32m      3\u001b[0m     fout\u001b[38;5;241m.\u001b[39mwrite(\u001b[38;5;124m\"\u001b[39m\u001b[38;5;124mspeakers=[\u001b[39m\u001b[38;5;124m\"\u001b[39m)\n",
      "\u001b[0;31mModuleNotFoundError\u001b[0m: No module named 'tqdm'"
     ]
    }
   ],
   "source": [
    "from tqdm import tqdm\n",
    "with open(\"augmented_history_speaker.py\", \"w\") as fout:\n",
    "    fout.write(\"speakers=[\")\n",
    "    for item in tqdm_notebook(augmented_data):\n",
    "        fout.write(item.__repr__())\n",
    "        fout.write(',\\n')\n",
    "    fout.write(']')"
   ]
  },
  {
   "cell_type": "code",
   "execution_count": 26,
   "metadata": {
    "pycharm": {
     "name": "#%%\n"
    }
   },
   "outputs": [
    {
     "ename": "ModuleNotFoundError",
     "evalue": "No module named 'augmented_honglou_speaker'",
     "output_type": "error",
     "traceback": [
      "\u001b[0;31m---------------------------------------------------------------------------\u001b[0m",
      "\u001b[0;31mModuleNotFoundError\u001b[0m                       Traceback (most recent call last)",
      "Input \u001b[0;32mIn [26]\u001b[0m, in \u001b[0;36m<cell line: 1>\u001b[0;34m()\u001b[0m\n\u001b[0;32m----> 1\u001b[0m \u001b[38;5;28;01mfrom\u001b[39;00m \u001b[38;5;21;01maugmented_honglou_speaker\u001b[39;00m \u001b[38;5;28;01mimport\u001b[39;00m speakers\n",
      "\u001b[0;31mModuleNotFoundError\u001b[0m: No module named 'augmented_honglou_speaker'"
     ]
    }
   ],
   "source": [
    "from augmented_honglou_speaker import speakers"
   ]
  },
  {
   "cell_type": "code",
   "execution_count": 27,
   "metadata": {
    "pycharm": {
     "name": "#%%\n"
    }
   },
   "outputs": [
    {
     "ename": "NameError",
     "evalue": "name 'speakers' is not defined",
     "output_type": "error",
     "traceback": [
      "\u001b[0;31m---------------------------------------------------------------------------\u001b[0m",
      "\u001b[0;31mNameError\u001b[0m                                 Traceback (most recent call last)",
      "Input \u001b[0;32mIn [27]\u001b[0m, in \u001b[0;36m<cell line: 1>\u001b[0;34m()\u001b[0m\n\u001b[0;32m----> 1\u001b[0m \u001b[38;5;28mlen\u001b[39m(\u001b[43mspeakers\u001b[49m)\n",
      "\u001b[0;31mNameError\u001b[0m: name 'speakers' is not defined"
     ]
    }
   ],
   "source": [
    "len(speakers)"
   ]
  },
  {
   "cell_type": "code",
   "execution_count": 28,
   "metadata": {
    "pycharm": {
     "name": "#%%\n"
    }
   },
   "outputs": [],
   "source": [
    "from augment_data import speakers"
   ]
  },
  {
   "cell_type": "code",
   "execution_count": null,
   "metadata": {
    "pycharm": {
     "name": "#%%\n"
    }
   },
   "outputs": [],
   "source": []
  }
 ],
 "metadata": {
  "kernelspec": {
   "display_name": "Python 3 (ipykernel)",
   "language": "python",
   "name": "python3"
  },
  "language_info": {
   "codemirror_mode": {
    "name": "ipython",
    "version": 3
   },
   "file_extension": ".py",
   "mimetype": "text/x-python",
   "name": "python",
   "nbconvert_exporter": "python",
   "pygments_lexer": "ipython3",
   "version": "3.10.4"
  }
 },
 "nbformat": 4,
 "nbformat_minor": 4
}
